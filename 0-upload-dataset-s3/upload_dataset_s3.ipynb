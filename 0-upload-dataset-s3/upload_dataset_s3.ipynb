{
 "cells": [
  {
   "cell_type": "markdown",
   "metadata": {},
   "source": [
    "**Choose a bucket name**"
   ]
  },
  {
   "cell_type": "code",
   "execution_count": 1,
   "metadata": {},
   "outputs": [
    {
     "output_type": "stream",
     "name": "stdout",
     "text": [
      "/Users/jasperhuang/Documents/GitHub/kubernetes-sagemaker-demos/myenv/bin/python\n"
     ]
    }
   ],
   "source": [
    "# make sure you are in the virtual environment\n",
    "!python3 -m venv myenv\n",
    "!source ../myenv/bin/activate\n",
    "!pip3 install --user ipykernel\n",
    "!python3 -m ipykernel install --user --name=myenv\n",
    "!which python"
   ]
  },
  {
   "cell_type": "code",
   "execution_count": 16,
   "metadata": {},
   "outputs": [
    {
     "output_type": "stream",
     "name": "stdout",
     "text": [
      "Collecting tensorflow==1.15\n",
      "\u001b[?25l  Downloading https://files.pythonhosted.org/packages/dc/65/a94519cd8b4fd61a7b002cb752bfc0c0e5faa25d1f43ec4f0a4705020126/tensorflow-1.15.0-cp37-cp37m-macosx_10_11_x86_64.whl (124.0MB)\n",
      "\u001b[K    100% |████████████████████████████████| 124.0MB 108kB/s \n",
      "\u001b[?25hRequirement already satisfied: six>=1.10.0 in /Users/jasperhuang/Documents/GitHub/kubernetes-sagemaker-demos/myenv/lib/python3.7/site-packages (from tensorflow==1.15) (1.15.0)\n",
      "Requirement already satisfied: wheel>=0.26 in /Users/jasperhuang/Documents/GitHub/kubernetes-sagemaker-demos/myenv/lib/python3.7/site-packages (from tensorflow==1.15) (0.36.2)\n",
      "Collecting keras-applications>=1.0.8 (from tensorflow==1.15)\n",
      "  Using cached https://files.pythonhosted.org/packages/71/e3/19762fdfc62877ae9102edf6342d71b28fbfd9dea3d2f96a882ce099b03f/Keras_Applications-1.0.8-py3-none-any.whl\n",
      "Requirement already satisfied: numpy<2.0,>=1.16.0 in /Users/jasperhuang/Documents/GitHub/kubernetes-sagemaker-demos/myenv/lib/python3.7/site-packages (from tensorflow==1.15) (1.19.5)\n",
      "Requirement already satisfied: grpcio>=1.8.6 in /Users/jasperhuang/Documents/GitHub/kubernetes-sagemaker-demos/myenv/lib/python3.7/site-packages (from tensorflow==1.15) (1.32.0)\n",
      "Requirement already satisfied: absl-py>=0.7.0 in /Users/jasperhuang/Documents/GitHub/kubernetes-sagemaker-demos/myenv/lib/python3.7/site-packages (from tensorflow==1.15) (0.12.0)\n",
      "Collecting tensorboard<1.16.0,>=1.15.0 (from tensorflow==1.15)\n",
      "\u001b[?25l  Downloading https://files.pythonhosted.org/packages/1e/e9/d3d747a97f7188f48aa5eda486907f3b345cd409f0a0850468ba867db246/tensorboard-1.15.0-py3-none-any.whl (3.8MB)\n",
      "\u001b[K    100% |████████████████████████████████| 3.8MB 3.0MB/s \n",
      "\u001b[?25hRequirement already satisfied: termcolor>=1.1.0 in /Users/jasperhuang/Documents/GitHub/kubernetes-sagemaker-demos/myenv/lib/python3.7/site-packages (from tensorflow==1.15) (1.1.0)\n",
      "Collecting astor>=0.6.0 (from tensorflow==1.15)\n",
      "  Downloading https://files.pythonhosted.org/packages/c3/88/97eef84f48fa04fbd6750e62dcceafba6c63c81b7ac1420856c8dcc0a3f9/astor-0.8.1-py2.py3-none-any.whl\n",
      "Requirement already satisfied: google-pasta>=0.1.6 in /Users/jasperhuang/Documents/GitHub/kubernetes-sagemaker-demos/myenv/lib/python3.7/site-packages (from tensorflow==1.15) (0.2.0)\n",
      "Collecting tensorflow-estimator==1.15.1 (from tensorflow==1.15)\n",
      "\u001b[?25l  Downloading https://files.pythonhosted.org/packages/de/62/2ee9cd74c9fa2fa450877847ba560b260f5d0fb70ee0595203082dafcc9d/tensorflow_estimator-1.15.1-py2.py3-none-any.whl (503kB)\n",
      "\u001b[K    100% |████████████████████████████████| 512kB 10.1MB/s \n",
      "\u001b[?25hRequirement already satisfied: protobuf>=3.6.1 in /Users/jasperhuang/Documents/GitHub/kubernetes-sagemaker-demos/myenv/lib/python3.7/site-packages (from tensorflow==1.15) (3.15.8)\n",
      "Requirement already satisfied: wrapt>=1.11.1 in /Users/jasperhuang/Documents/GitHub/kubernetes-sagemaker-demos/myenv/lib/python3.7/site-packages (from tensorflow==1.15) (1.12.1)\n",
      "Requirement already satisfied: opt-einsum>=2.3.2 in /Users/jasperhuang/Documents/GitHub/kubernetes-sagemaker-demos/myenv/lib/python3.7/site-packages (from tensorflow==1.15) (3.3.0)\n",
      "Requirement already satisfied: keras-preprocessing>=1.0.5 in /Users/jasperhuang/Documents/GitHub/kubernetes-sagemaker-demos/myenv/lib/python3.7/site-packages (from tensorflow==1.15) (1.1.2)\n",
      "Collecting gast==0.2.2 (from tensorflow==1.15)\n",
      "  Using cached https://files.pythonhosted.org/packages/4e/35/11749bf99b2d4e3cceb4d55ca22590b0d7c2c62b9de38ac4a4a7f4687421/gast-0.2.2.tar.gz\n",
      "Requirement already satisfied: h5py in /Users/jasperhuang/Documents/GitHub/kubernetes-sagemaker-demos/myenv/lib/python3.7/site-packages (from keras-applications>=1.0.8->tensorflow==1.15) (2.10.0)\n",
      "Requirement already satisfied: setuptools>=41.0.0 in /Users/jasperhuang/Documents/GitHub/kubernetes-sagemaker-demos/myenv/lib/python3.7/site-packages (from tensorboard<1.16.0,>=1.15.0->tensorflow==1.15) (56.0.0)\n",
      "Requirement already satisfied: markdown>=2.6.8 in /Users/jasperhuang/Documents/GitHub/kubernetes-sagemaker-demos/myenv/lib/python3.7/site-packages (from tensorboard<1.16.0,>=1.15.0->tensorflow==1.15) (3.3.4)\n",
      "Requirement already satisfied: werkzeug>=0.11.15 in /Users/jasperhuang/Documents/GitHub/kubernetes-sagemaker-demos/myenv/lib/python3.7/site-packages (from tensorboard<1.16.0,>=1.15.0->tensorflow==1.15) (1.0.1)\n",
      "Requirement already satisfied: importlib-metadata; python_version < \"3.8\" in /Users/jasperhuang/Documents/GitHub/kubernetes-sagemaker-demos/myenv/lib/python3.7/site-packages (from markdown>=2.6.8->tensorboard<1.16.0,>=1.15.0->tensorflow==1.15) (4.0.1)\n",
      "Requirement already satisfied: zipp>=0.5 in /Users/jasperhuang/Documents/GitHub/kubernetes-sagemaker-demos/myenv/lib/python3.7/site-packages (from importlib-metadata; python_version < \"3.8\"->markdown>=2.6.8->tensorboard<1.16.0,>=1.15.0->tensorflow==1.15) (3.4.1)\n",
      "Requirement already satisfied: typing-extensions>=3.6.4; python_version < \"3.8\" in /Users/jasperhuang/Documents/GitHub/kubernetes-sagemaker-demos/myenv/lib/python3.7/site-packages (from importlib-metadata; python_version < \"3.8\"->markdown>=2.6.8->tensorboard<1.16.0,>=1.15.0->tensorflow==1.15) (3.7.4.3)\n",
      "Building wheels for collected packages: gast\n",
      "  Running setup.py bdist_wheel for gast ... \u001b[?25ldone\n",
      "\u001b[?25h  Stored in directory: /Users/jasperhuang/Library/Caches/pip/wheels/5c/2e/7e/a1d4d4fcebe6c381f378ce7743a3ced3699feb89bcfbdadadd\n",
      "Successfully built gast\n",
      "Installing collected packages: keras-applications, tensorboard, astor, tensorflow-estimator, gast, tensorflow\n",
      "  Found existing installation: tensorboard 2.5.0\n",
      "    Uninstalling tensorboard-2.5.0:\n",
      "      Successfully uninstalled tensorboard-2.5.0\n",
      "  Found existing installation: tensorflow-estimator 2.4.0\n",
      "    Uninstalling tensorflow-estimator-2.4.0:\n",
      "      Successfully uninstalled tensorflow-estimator-2.4.0\n",
      "  Found existing installation: gast 0.3.3\n",
      "    Uninstalling gast-0.3.3:\n",
      "      Successfully uninstalled gast-0.3.3\n",
      "Successfully installed astor-0.8.1 gast-0.2.2 keras-applications-1.0.8 tensorboard-1.15.0 tensorflow-1.15.0 tensorflow-estimator-1.15.1\n",
      "\u001b[33mYou are using pip version 10.0.1, however version 21.0.1 is available.\n",
      "You should consider upgrading via the 'pip install --upgrade pip' command.\u001b[0m\n"
     ]
    }
   ],
   "source": [
    "!pip3 install tensorflow==1.15"
   ]
  },
  {
   "cell_type": "code",
   "execution_count": 17,
   "metadata": {},
   "outputs": [
    {
     "output_type": "stream",
     "name": "stdout",
     "text": [
      "Name: tensorflow\n",
      "Version: 1.15.0\n",
      "Summary: TensorFlow is an open source machine learning framework for everyone.\n",
      "Home-page: https://www.tensorflow.org/\n",
      "Author: Google Inc.\n",
      "Author-email: packages@tensorflow.org\n",
      "License: Apache 2.0\n",
      "Location: /Users/jasperhuang/Documents/GitHub/kubernetes-sagemaker-demos/myenv/lib/python3.7/site-packages\n",
      "Requires: keras-applications, astor, six, grpcio, tensorflow-estimator, protobuf, gast, termcolor, wheel, google-pasta, numpy, wrapt, tensorboard, opt-einsum, absl-py, keras-preprocessing\n",
      "Required-by: \n",
      "\u001b[33mYou are using pip version 10.0.1, however version 21.0.1 is available.\n",
      "You should consider upgrading via the 'pip install --upgrade pip' command.\u001b[0m\n"
     ]
    }
   ],
   "source": [
    "!pip3 show tensorflow"
   ]
  },
  {
   "cell_type": "code",
   "execution_count": 18,
   "metadata": {},
   "outputs": [],
   "source": [
    "bucket_name = 'cis188-test-eks'"
   ]
  },
  {
   "cell_type": "markdown",
   "metadata": {},
   "source": [
    "**Download the CIFAR10 dataset**"
   ]
  },
  {
   "cell_type": "code",
   "execution_count": 19,
   "metadata": {},
   "outputs": [
    {
     "output_type": "stream",
     "name": "stdout",
     "text": [
      "WARNING:tensorflow:From generate_cifar10_tfrecords.py:35: The name tf.logging.set_verbosity is deprecated. Please use tf.compat.v1.logging.set_verbosity instead.\n",
      "\n",
      "WARNING:tensorflow:From generate_cifar10_tfrecords.py:35: The name tf.logging.ERROR is deprecated. Please use tf.compat.v1.logging.ERROR instead.\n",
      "\n",
      "Download from https://www.cs.toronto.edu/~kriz/cifar-10-python.tar.gz and extract.\n",
      "Successfully downloaded cifar-10-python.tar.gz 170498071 bytes.\n",
      "Generating dataset/train/train.tfrecords\n",
      "Generating dataset/validation/validation.tfrecords\n",
      "Generating dataset/eval/eval.tfrecords\n",
      "Done!\n"
     ]
    }
   ],
   "source": [
    "!python generate_cifar10_tfrecords.py --data-dir dataset"
   ]
  },
  {
   "cell_type": "markdown",
   "metadata": {},
   "source": [
    "**Check the contents of the directory**"
   ]
  },
  {
   "cell_type": "code",
   "execution_count": 20,
   "metadata": {},
   "outputs": [
    {
     "output_type": "stream",
     "name": "stdout",
     "text": [
      "\u001b[34meval\u001b[m\u001b[m       \u001b[34mtrain\u001b[m\u001b[m      \u001b[34mvalidation\u001b[m\u001b[m\n"
     ]
    }
   ],
   "source": [
    "!ls dataset"
   ]
  },
  {
   "cell_type": "markdown",
   "metadata": {},
   "source": [
    "**Create a new bucket if you don't already have one**"
   ]
  },
  {
   "cell_type": "code",
   "execution_count": 22,
   "metadata": {},
   "outputs": [
    {
     "output_type": "stream",
     "name": "stdout",
     "text": [
      "make_bucket: cis188-test-eks\n"
     ]
    }
   ],
   "source": [
    "!aws s3 mb s3://{bucket_name}"
   ]
  },
  {
   "cell_type": "markdown",
   "metadata": {},
   "source": [
    "**Upload your dataset to S3**"
   ]
  },
  {
   "cell_type": "code",
   "execution_count": 23,
   "metadata": {},
   "outputs": [
    {
     "output_type": "stream",
     "name": "stdout",
     "text": [
      "upload: dataset/validation/validation.tfrecords to s3://cis188-test-eks/cifar10-dataset/validation/validation.tfrecords\n",
      "upload: dataset/eval/eval.tfrecords to s3://cis188-test-eks/cifar10-dataset/eval/eval.tfrecords\n",
      "upload: dataset/train/train.tfrecords to s3://cis188-test-eks/cifar10-dataset/train/train.tfrecords\n"
     ]
    }
   ],
   "source": [
    "!aws s3 sync dataset/ s3://{bucket_name}/cifar10-dataset/"
   ]
  }
 ],
 "metadata": {
  "kernelspec": {
   "display_name": "Python 3.7.0 64-bit ('myenv': venv)",
   "language": "python",
   "name": "python370jvsc74a57bd04e7ec8f73f85f74ec0284ce9e25dd79d03f9e71ecc323d3cae9ce6840a3f6bd8"
  },
  "language_info": {
   "codemirror_mode": {
    "name": "ipython",
    "version": 3
   },
   "file_extension": ".py",
   "mimetype": "text/x-python",
   "name": "python",
   "nbconvert_exporter": "python",
   "pygments_lexer": "ipython3",
   "version": "3.7.0"
  }
 },
 "nbformat": 4,
 "nbformat_minor": 4
}